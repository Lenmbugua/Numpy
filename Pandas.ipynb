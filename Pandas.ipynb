{
 "cells": [
  {
   "cell_type": "code",
   "execution_count": 18,
   "id": "0306527d-b1c5-4146-9d8b-e3e3f042e3bc",
   "metadata": {},
   "outputs": [],
   "source": [
    "import numpy as np\n",
    "import pandas as pd"
   ]
  },
  {
   "cell_type": "code",
   "execution_count": 19,
   "id": "e4e13ef7-9a36-441f-869d-f37861fbbbf2",
   "metadata": {},
   "outputs": [],
   "source": [
    "lst = [1,2,3,4,5]"
   ]
  },
  {
   "cell_type": "code",
   "execution_count": 20,
   "id": "230bc486-bfef-441f-b3fd-64837caa2f6e",
   "metadata": {},
   "outputs": [
    {
     "data": {
      "text/plain": [
       "array([1, 2, 3, 4, 5])"
      ]
     },
     "execution_count": 20,
     "metadata": {},
     "output_type": "execute_result"
    }
   ],
   "source": [
    "np.array(lst)"
   ]
  },
  {
   "cell_type": "code",
   "execution_count": 21,
   "id": "e3a93908-a52f-4407-b6e8-70ae10e0fb9e",
   "metadata": {},
   "outputs": [
    {
     "data": {
      "text/plain": [
       "0    1\n",
       "1    2\n",
       "2    3\n",
       "3    4\n",
       "4    5\n",
       "dtype: int64"
      ]
     },
     "execution_count": 21,
     "metadata": {},
     "output_type": "execute_result"
    }
   ],
   "source": [
    "pd.Series(lst)"
   ]
  },
  {
   "cell_type": "code",
   "execution_count": 12,
   "id": "4cbd7162-2bec-46fe-94fb-969d38b5a4d9",
   "metadata": {},
   "outputs": [
    {
     "data": {
      "text/plain": [
       "[[1, 2, 3, 4, 5], [1, 2, 3, 4, 5], [1, 2, 3, 4, 5]]"
      ]
     },
     "execution_count": 12,
     "metadata": {},
     "output_type": "execute_result"
    }
   ],
   "source": [
    "[lst,lst,lst]"
   ]
  },
  {
   "cell_type": "code",
   "execution_count": 22,
   "id": "3867a8a5-685d-447b-a144-75793ffc92ed",
   "metadata": {},
   "outputs": [
    {
     "data": {
      "text/html": [
       "<div>\n",
       "<style scoped>\n",
       "    .dataframe tbody tr th:only-of-type {\n",
       "        vertical-align: middle;\n",
       "    }\n",
       "\n",
       "    .dataframe tbody tr th {\n",
       "        vertical-align: top;\n",
       "    }\n",
       "\n",
       "    .dataframe thead th {\n",
       "        text-align: right;\n",
       "    }\n",
       "</style>\n",
       "<table border=\"1\" class=\"dataframe\">\n",
       "  <thead>\n",
       "    <tr style=\"text-align: right;\">\n",
       "      <th></th>\n",
       "      <th>A</th>\n",
       "      <th>B</th>\n",
       "      <th>C</th>\n",
       "      <th>D</th>\n",
       "      <th>E</th>\n",
       "    </tr>\n",
       "  </thead>\n",
       "  <tbody>\n",
       "    <tr>\n",
       "      <th>0</th>\n",
       "      <td>1</td>\n",
       "      <td>2</td>\n",
       "      <td>3</td>\n",
       "      <td>4</td>\n",
       "      <td>5</td>\n",
       "    </tr>\n",
       "    <tr>\n",
       "      <th>1</th>\n",
       "      <td>1</td>\n",
       "      <td>2</td>\n",
       "      <td>3</td>\n",
       "      <td>4</td>\n",
       "      <td>5</td>\n",
       "    </tr>\n",
       "    <tr>\n",
       "      <th>2</th>\n",
       "      <td>1</td>\n",
       "      <td>2</td>\n",
       "      <td>3</td>\n",
       "      <td>4</td>\n",
       "      <td>5</td>\n",
       "    </tr>\n",
       "  </tbody>\n",
       "</table>\n",
       "</div>"
      ],
      "text/plain": [
       "   A  B  C  D  E\n",
       "0  1  2  3  4  5\n",
       "1  1  2  3  4  5\n",
       "2  1  2  3  4  5"
      ]
     },
     "execution_count": 22,
     "metadata": {},
     "output_type": "execute_result"
    }
   ],
   "source": [
    "pd.DataFrame([lst,lst,lst], columns=['A','B','C','D','E'])"
   ]
  },
  {
   "cell_type": "code",
   "execution_count": 23,
   "id": "51fc2591-5c97-4160-97f7-9f29eaf1c246",
   "metadata": {},
   "outputs": [
    {
     "data": {
      "text/html": [
       "<div>\n",
       "<style scoped>\n",
       "    .dataframe tbody tr th:only-of-type {\n",
       "        vertical-align: middle;\n",
       "    }\n",
       "\n",
       "    .dataframe tbody tr th {\n",
       "        vertical-align: top;\n",
       "    }\n",
       "\n",
       "    .dataframe thead th {\n",
       "        text-align: right;\n",
       "    }\n",
       "</style>\n",
       "<table border=\"1\" class=\"dataframe\">\n",
       "  <thead>\n",
       "    <tr style=\"text-align: right;\">\n",
       "      <th></th>\n",
       "      <th>A</th>\n",
       "      <th>B</th>\n",
       "      <th>C</th>\n",
       "      <th>D</th>\n",
       "      <th>E</th>\n",
       "    </tr>\n",
       "  </thead>\n",
       "  <tbody>\n",
       "    <tr>\n",
       "      <th>0</th>\n",
       "      <td>1</td>\n",
       "      <td>2</td>\n",
       "      <td>3</td>\n",
       "      <td>4</td>\n",
       "      <td>5</td>\n",
       "    </tr>\n",
       "    <tr>\n",
       "      <th>1</th>\n",
       "      <td>1</td>\n",
       "      <td>2</td>\n",
       "      <td>3</td>\n",
       "      <td>4</td>\n",
       "      <td>5</td>\n",
       "    </tr>\n",
       "    <tr>\n",
       "      <th>2</th>\n",
       "      <td>1</td>\n",
       "      <td>2</td>\n",
       "      <td>3</td>\n",
       "      <td>4</td>\n",
       "      <td>5</td>\n",
       "    </tr>\n",
       "  </tbody>\n",
       "</table>\n",
       "</div>"
      ],
      "text/plain": [
       "   A  B  C  D  E\n",
       "0  1  2  3  4  5\n",
       "1  1  2  3  4  5\n",
       "2  1  2  3  4  5"
      ]
     },
     "execution_count": 23,
     "metadata": {},
     "output_type": "execute_result"
    }
   ],
   "source": [
    "df = pd.DataFrame([lst,lst,lst], columns=['A','B','C','D','E'])\n",
    "df"
   ]
  },
  {
   "cell_type": "code",
   "execution_count": 7,
   "id": "91f296fe-c6ba-4d48-a48d-81acf444fcf9",
   "metadata": {},
   "outputs": [
    {
     "name": "stdout",
     "output_type": "stream",
     "text": [
      "       0\n",
      "0  Geeks\n",
      "1    For\n",
      "2  Geeks\n"
     ]
    }
   ],
   "source": [
    "import pandas as pd\n",
    "lst = ['Geeks', 'For','Geeks']\n",
    "df = pd.DataFrame(lst)\n",
    "print(df)"
   ]
  },
  {
   "cell_type": "code",
   "execution_count": 3,
   "id": "a056f302-8552-4caf-ab7c-53649f8e2356",
   "metadata": {},
   "outputs": [
    {
     "name": "stdout",
     "output_type": "stream",
     "text": [
      "Pandas Series:  Series([], dtype: object)\n",
      "Pandas Series:\n",
      " 0    g\n",
      "1    e\n",
      "2    e\n",
      "3    k\n",
      "4    s\n",
      "dtype: object\n"
     ]
    }
   ],
   "source": [
    "#Pandas Series\n",
    "#A pandas series is a 1d array capable of holding data of any type(float,integer,string,python objects etc)\n",
    "#Creating a series using the Pandas Library.\n",
    "import pandas as pd\n",
    "import numpy as np\n",
    "#Creating empty series\n",
    "ser = pd.Series()\n",
    "print(\"Pandas Series: \", ser)\n",
    "#Simple array\n",
    "data = np.array(['g','e','e','k','s'])\n",
    "ser = pd.Series(data)\n",
    "print(\"Pandas Series:\\n\", ser)"
   ]
  },
  {
   "cell_type": "code",
   "execution_count": 5,
   "id": "3bb11699-f5d6-470c-92e9-a0e234c8b292",
   "metadata": {},
   "outputs": [
    {
     "name": "stdout",
     "output_type": "stream",
     "text": [
      "Empty DataFrame\n",
      "Columns: []\n",
      "Index: []\n",
      "        0\n",
      "0   Geeks\n",
      "1     for\n",
      "2   Geeks\n",
      "3      is\n",
      "4       a\n",
      "5  portal\n",
      "6     for\n",
      "7   geeks\n"
     ]
    }
   ],
   "source": [
    "#Pandas DataFrame\n",
    "#A Dataframe is a 2d structure constructed with rows and columns similar to excel spreadsheets\n",
    "#Creating a DataFrame Using the Pandas Library\n",
    "import pandas as pd\n",
    "#calling dataframe constructor\n",
    "df = pd.DataFrame()\n",
    "print(df)\n",
    "#List of strings\n",
    "lst = [\"Geeks\",\"for\",'Geeks','is','a','portal','for','geeks']\n",
    "#calling dataframe constructor on lst\n",
    "df = pd.DataFrame(lst)\n",
    "print(df)"
   ]
  },
  {
   "cell_type": "code",
   "execution_count": 25,
   "id": "ee4852a0-06e6-4e85-abb0-1e6f7aa902ef",
   "metadata": {},
   "outputs": [
    {
     "name": "stdout",
     "output_type": "stream",
     "text": [
      "Empty DataFrame\n",
      "Columns: []\n",
      "Index: []\n"
     ]
    }
   ],
   "source": [
    "#Creating an Empty DataFrame\n",
    "import pandas as pd\n",
    "df = pd.DataFrame()\n",
    "print(df)"
   ]
  },
  {
   "cell_type": "code",
   "execution_count": 26,
   "id": "7ad4eb20-948c-47d5-a391-d138d179aa72",
   "metadata": {},
   "outputs": [
    {
     "name": "stdout",
     "output_type": "stream",
     "text": [
      "       0\n",
      "0  Geeks\n",
      "1    For\n",
      "2  Geeks\n"
     ]
    }
   ],
   "source": [
    "#Creating a DataFrame from a List\n",
    "import pandas as pd\n",
    "lst = ['Geeks','For','Geeks']\n",
    "df = pd.DataFrame(lst)\n",
    "print(df)"
   ]
  },
  {
   "cell_type": "code",
   "execution_count": 28,
   "id": "f851ed7f-d6cc-4c95-a128-4c131524533c",
   "metadata": {},
   "outputs": [
    {
     "name": "stdout",
     "output_type": "stream",
     "text": [
      "   A  B  C\n",
      "0  1  2  3\n",
      "1  4  5  6\n",
      "2  7  8  9\n"
     ]
    }
   ],
   "source": [
    "#Creating DataFrame from dict of Numpy Array\n",
    "import numpy as np\n",
    "import pandas as pd\n",
    "data = np.array([[1,2,3],[4,5,6],[7,8,9]])\n",
    "df = pd.DataFrame(data, columns= ['A','B','C'])\n",
    "print(df)"
   ]
  },
  {
   "cell_type": "code",
   "execution_count": 29,
   "id": "4a8e342e-81ac-4242-bc26-ab47dafbc394",
   "metadata": {},
   "outputs": [
    {
     "name": "stdout",
     "output_type": "stream",
     "text": [
      "     name  degree  score\n",
      "0  aparna     MBA     90\n",
      "1  Pankaj     BCA     40\n",
      "2  sudhir  M.Tech     80\n",
      "3   Geeku     MBA     98\n"
     ]
    }
   ],
   "source": [
    "#Creating a DataFrame from a List of Dictionaries  \n",
    "import pandas as pd\n",
    "dict = {'name':[\"aparna\",\"Pankaj\",\"sudhir\",\"Geeku\"],\n",
    "       'degree': [\"MBA\",\"BCA\",\"M.Tech\",\"MBA\"],\n",
    "       'score':[90,40,80,98]}\n",
    "df = pd.DataFrame(dict)\n",
    "print(df)"
   ]
  },
  {
   "cell_type": "code",
   "execution_count": 30,
   "id": "026d2a0d-a5d0-431b-82a9-6c1cb0818ee9",
   "metadata": {},
   "outputs": [
    {
     "name": "stdout",
     "output_type": "stream",
     "text": [
      "0    1\n",
      "1    2\n",
      "2    3\n",
      "3    4\n",
      "dtype: int64\n"
     ]
    }
   ],
   "source": [
    "#Python Pandas Series\n",
    "import pandas as pd\n",
    "#simple array\n",
    "data = [1,2,3,4]\n",
    "ser = pd.Series(data)\n",
    "print(ser)"
   ]
  },
  {
   "cell_type": "code",
   "execution_count": 31,
   "id": "cc92aef7-1221-4460-a1cf-9e544002d709",
   "metadata": {},
   "outputs": [
    {
     "name": "stdout",
     "output_type": "stream",
     "text": [
      "0    g\n",
      "1    e\n",
      "2    e\n",
      "3    k\n",
      "4    s\n",
      "dtype: object\n"
     ]
    }
   ],
   "source": [
    "#Creating a Pandas Series\n",
    "#Creating a series from array:in order to create a series from an array,we have to import a numpy module and have to use array() function.\n",
    "import pandas as pd\n",
    "import numpy as np\n",
    "data = np.array(['g','e','e','k','s'])\n",
    "ser = pd.Series(data)\n",
    "print(ser)"
   ]
  },
  {
   "cell_type": "code",
   "execution_count": 32,
   "id": "761e8c25-5784-4680-8b0a-1035a15f1766",
   "metadata": {},
   "outputs": [
    {
     "name": "stdout",
     "output_type": "stream",
     "text": [
      "0    g\n",
      "1    e\n",
      "2    e\n",
      "3    k\n",
      "4    s\n",
      "dtype: object\n"
     ]
    }
   ],
   "source": [
    "#creating a series from list\n",
    "#In order to create a series from list, we have to first create a list after that we can create a series from list.\n",
    "import pandas as pd\n",
    "#a simple list\n",
    "list = ['g','e','e','k','s']\n",
    "#create a series from the list\n",
    "ser = pd.Series(list)\n",
    "print(ser)"
   ]
  },
  {
   "cell_type": "code",
   "execution_count": 35,
   "id": "fda81361-39a3-4538-b818-eb393d5fbbcc",
   "metadata": {},
   "outputs": [
    {
     "name": "stdout",
     "output_type": "stream",
     "text": [
      "0    g\n",
      "1    e\n",
      "2    e\n",
      "3    k\n",
      "4    s\n",
      "dtype: object\n"
     ]
    }
   ],
   "source": [
    "#Accessing element of Series\n",
    "#There are two ways through which we can access element of series, they are :\n",
    "#Accessing Element from Series with Position\n",
    "#Accessing Element Using Label (index)\n",
    "#Accessing first 5 elements of Series.\n",
    "import pandas as pd\n",
    "import numpy as np\n",
    "#creating a simple array\n",
    "data = np.array(['g','e','e','k','s','f', 'o','r','g','e','e','k','s'])\n",
    "ser = pd.Series(data)\n",
    "#retrieve the first element\n",
    "print(ser[:5])"
   ]
  },
  {
   "cell_type": "code",
   "execution_count": 38,
   "id": "05fcbef0-7a66-471c-bb6f-b56643fb9cc6",
   "metadata": {},
   "outputs": [
    {
     "name": "stdout",
     "output_type": "stream",
     "text": [
      "3     k\n",
      "4     s\n",
      "5     f\n",
      "6     o\n",
      "7     r\n",
      "8     g\n",
      "9     e\n",
      "10    e\n",
      "11    k\n",
      "12    s\n",
      "dtype: object\n"
     ]
    }
   ],
   "source": [
    "#Accessing Last 10 Elements of Series\n",
    "import pandas as pd\n",
    "import numpy as np\n",
    "#create simple array\n",
    "data = np.array(['g','e','e','k','s','f', 'o','r','g','e','e','k','s'])\n",
    "ser = pd.Series(data)\n",
    "print(ser[-10:])"
   ]
  },
  {
   "cell_type": "code",
   "execution_count": 40,
   "id": "7fe5d32b-4b23-4f50-b367-359ba667f8ca",
   "metadata": {},
   "outputs": [
    {
     "name": "stdout",
     "output_type": "stream",
     "text": [
      "o\n"
     ]
    }
   ],
   "source": [
    "#Accessing Element Using Label (index) :\n",
    "#Accessing a single element using index label.\n",
    "import pandas as pd\n",
    "import numpy as np\n",
    "#create a simple array\n",
    "data = np.array(['g','e','e','k','s','f', 'o','r','g','e','e','k','s'])\n",
    "ser = pd.Series(data,index=[10,11,12,13,14,15,16,17,18,19,20,21,22])\n",
    "#accessing a element using index element\n",
    "print(ser[16])"
   ]
  },
  {
   "cell_type": "code",
   "execution_count": 41,
   "id": "a2fee91a-99e2-430a-af30-07e21d2e5e1a",
   "metadata": {},
   "outputs": [
    {
     "name": "stdout",
     "output_type": "stream",
     "text": [
      "10    g\n",
      "11    e\n",
      "12    e\n",
      "13    k\n",
      "14    s\n",
      "dtype: object\n"
     ]
    }
   ],
   "source": [
    "#Accessing a Multiple Element Using index Label\n",
    "import pandas as pd\n",
    "import numpy as np\n",
    "#creating simple array\n",
    "data = np.array(['g','e','e','k','s','f', 'o','r','g','e','e','k','s'])\n",
    "ser = pd.Series(data,index=[10,11,12,13,14,15,16,17,18,19,20,21,22])\n",
    "#accesing a multiple element using \n",
    "#index element\n",
    "print(ser[[10,11,12,13,14]])"
   ]
  },
  {
   "cell_type": "code",
   "execution_count": 42,
   "id": "6559ad39-d434-4631-afd1-462747debb5c",
   "metadata": {},
   "outputs": [
    {
     "name": "stdout",
     "output_type": "stream",
     "text": [
      "a    3\n",
      "d    6\n",
      "dtype: int32\n"
     ]
    }
   ],
   "source": [
    "#Access Multiple Elements by Providing Label of Index\n",
    "import pandas as pd\n",
    "import numpy as np\n",
    "ser = pd.Series(np.arange(3,9),index = ['a','b','c','d','e','f'])\n",
    "print(ser[['a','d']])"
   ]
  },
  {
   "cell_type": "code",
   "execution_count": 1,
   "id": "f3e436e7-e5fa-4a66-9658-072b7cbdf2cf",
   "metadata": {},
   "outputs": [
    {
     "name": "stdout",
     "output_type": "stream",
     "text": [
      "A    5\n",
      "B    7\n",
      "C    9\n",
      "dtype: int64\n"
     ]
    }
   ],
   "source": [
    "#Binary Operations on Pandas Series\n",
    "#Performing Binary Operations\n",
    "import pandas as pd\n",
    "ser1 = pd.Series([1,2,3],index=['A','B','C'])\n",
    "ser2 = pd.Series([4,5,6],index=['A','B','C'])\n",
    "df_sum = ser1.add(ser2)\n",
    "print(df_sum)\n",
    "#Each element of ser1 is added to the corresponding element of ser2 by matching the index labels (A,B,C)."
   ]
  },
  {
   "cell_type": "code",
   "execution_count": 2,
   "id": "74c97784-de82-4a21-b0c7-1e1ea7239edc",
   "metadata": {},
   "outputs": [
    {
     "name": "stdout",
     "output_type": "stream",
     "text": [
      "0    1.0\n",
      "1    2.0\n",
      "2    3.0\n",
      "3    4.0\n",
      "dtype: float64\n"
     ]
    }
   ],
   "source": [
    "#Conversion Operation on Series\n",
    "import pandas as pd\n",
    "ser = pd.Series([1,2,3,4])\n",
    "ser = ser.astype(float)\n",
    "print(ser)"
   ]
  },
  {
   "cell_type": "code",
   "execution_count": null,
   "id": "d8dc9dff-1f25-4edd-b6c9-7a18f8250a90",
   "metadata": {},
   "outputs": [],
   "source": []
  }
 ],
 "metadata": {
  "kernelspec": {
   "display_name": "Python 3 (ipykernel)",
   "language": "python",
   "name": "python3"
  },
  "language_info": {
   "codemirror_mode": {
    "name": "ipython",
    "version": 3
   },
   "file_extension": ".py",
   "mimetype": "text/x-python",
   "name": "python",
   "nbconvert_exporter": "python",
   "pygments_lexer": "ipython3",
   "version": "3.11.7"
  }
 },
 "nbformat": 4,
 "nbformat_minor": 5
}
