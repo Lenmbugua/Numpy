{
 "cells": [
  {
   "cell_type": "code",
   "execution_count": 1,
   "id": "0306527d-b1c5-4146-9d8b-e3e3f042e3bc",
   "metadata": {},
   "outputs": [],
   "source": [
    "import numpy as np\n",
    "import pandas as pd"
   ]
  },
  {
   "cell_type": "code",
   "execution_count": 2,
   "id": "e4e13ef7-9a36-441f-869d-f37861fbbbf2",
   "metadata": {},
   "outputs": [],
   "source": [
    "lst = [1,2,3,4,5]"
   ]
  },
  {
   "cell_type": "code",
   "execution_count": 3,
   "id": "230bc486-bfef-441f-b3fd-64837caa2f6e",
   "metadata": {},
   "outputs": [
    {
     "data": {
      "text/plain": [
       "array([1, 2, 3, 4, 5])"
      ]
     },
     "execution_count": 3,
     "metadata": {},
     "output_type": "execute_result"
    }
   ],
   "source": [
    "np.array(lst)"
   ]
  },
  {
   "cell_type": "code",
   "execution_count": 4,
   "id": "e3a93908-a52f-4407-b6e8-70ae10e0fb9e",
   "metadata": {},
   "outputs": [
    {
     "data": {
      "text/plain": [
       "0    1\n",
       "1    2\n",
       "2    3\n",
       "3    4\n",
       "4    5\n",
       "dtype: int64"
      ]
     },
     "execution_count": 4,
     "metadata": {},
     "output_type": "execute_result"
    }
   ],
   "source": [
    "pd.Series(lst)"
   ]
  },
  {
   "cell_type": "code",
   "execution_count": 5,
   "id": "4cbd7162-2bec-46fe-94fb-969d38b5a4d9",
   "metadata": {},
   "outputs": [
    {
     "data": {
      "text/plain": [
       "[[1, 2, 3, 4, 5], [1, 2, 3, 4, 5], [1, 2, 3, 4, 5]]"
      ]
     },
     "execution_count": 5,
     "metadata": {},
     "output_type": "execute_result"
    }
   ],
   "source": [
    "[lst,lst,lst]"
   ]
  },
  {
   "cell_type": "code",
   "execution_count": 6,
   "id": "3867a8a5-685d-447b-a144-75793ffc92ed",
   "metadata": {},
   "outputs": [
    {
     "data": {
      "text/html": [
       "<div>\n",
       "<style scoped>\n",
       "    .dataframe tbody tr th:only-of-type {\n",
       "        vertical-align: middle;\n",
       "    }\n",
       "\n",
       "    .dataframe tbody tr th {\n",
       "        vertical-align: top;\n",
       "    }\n",
       "\n",
       "    .dataframe thead th {\n",
       "        text-align: right;\n",
       "    }\n",
       "</style>\n",
       "<table border=\"1\" class=\"dataframe\">\n",
       "  <thead>\n",
       "    <tr style=\"text-align: right;\">\n",
       "      <th></th>\n",
       "      <th>A</th>\n",
       "      <th>B</th>\n",
       "      <th>C</th>\n",
       "      <th>D</th>\n",
       "      <th>E</th>\n",
       "    </tr>\n",
       "  </thead>\n",
       "  <tbody>\n",
       "    <tr>\n",
       "      <th>0</th>\n",
       "      <td>1</td>\n",
       "      <td>2</td>\n",
       "      <td>3</td>\n",
       "      <td>4</td>\n",
       "      <td>5</td>\n",
       "    </tr>\n",
       "    <tr>\n",
       "      <th>1</th>\n",
       "      <td>1</td>\n",
       "      <td>2</td>\n",
       "      <td>3</td>\n",
       "      <td>4</td>\n",
       "      <td>5</td>\n",
       "    </tr>\n",
       "    <tr>\n",
       "      <th>2</th>\n",
       "      <td>1</td>\n",
       "      <td>2</td>\n",
       "      <td>3</td>\n",
       "      <td>4</td>\n",
       "      <td>5</td>\n",
       "    </tr>\n",
       "  </tbody>\n",
       "</table>\n",
       "</div>"
      ],
      "text/plain": [
       "   A  B  C  D  E\n",
       "0  1  2  3  4  5\n",
       "1  1  2  3  4  5\n",
       "2  1  2  3  4  5"
      ]
     },
     "execution_count": 6,
     "metadata": {},
     "output_type": "execute_result"
    }
   ],
   "source": [
    "pd.DataFrame([lst,lst,lst], columns=['A','B','C','D','E'])"
   ]
  },
  {
   "cell_type": "code",
   "execution_count": 7,
   "id": "51fc2591-5c97-4160-97f7-9f29eaf1c246",
   "metadata": {},
   "outputs": [
    {
     "data": {
      "text/html": [
       "<div>\n",
       "<style scoped>\n",
       "    .dataframe tbody tr th:only-of-type {\n",
       "        vertical-align: middle;\n",
       "    }\n",
       "\n",
       "    .dataframe tbody tr th {\n",
       "        vertical-align: top;\n",
       "    }\n",
       "\n",
       "    .dataframe thead th {\n",
       "        text-align: right;\n",
       "    }\n",
       "</style>\n",
       "<table border=\"1\" class=\"dataframe\">\n",
       "  <thead>\n",
       "    <tr style=\"text-align: right;\">\n",
       "      <th></th>\n",
       "      <th>A</th>\n",
       "      <th>B</th>\n",
       "      <th>C</th>\n",
       "      <th>D</th>\n",
       "      <th>E</th>\n",
       "    </tr>\n",
       "  </thead>\n",
       "  <tbody>\n",
       "    <tr>\n",
       "      <th>0</th>\n",
       "      <td>1</td>\n",
       "      <td>2</td>\n",
       "      <td>3</td>\n",
       "      <td>4</td>\n",
       "      <td>5</td>\n",
       "    </tr>\n",
       "    <tr>\n",
       "      <th>1</th>\n",
       "      <td>1</td>\n",
       "      <td>2</td>\n",
       "      <td>3</td>\n",
       "      <td>4</td>\n",
       "      <td>5</td>\n",
       "    </tr>\n",
       "    <tr>\n",
       "      <th>2</th>\n",
       "      <td>1</td>\n",
       "      <td>2</td>\n",
       "      <td>3</td>\n",
       "      <td>4</td>\n",
       "      <td>5</td>\n",
       "    </tr>\n",
       "  </tbody>\n",
       "</table>\n",
       "</div>"
      ],
      "text/plain": [
       "   A  B  C  D  E\n",
       "0  1  2  3  4  5\n",
       "1  1  2  3  4  5\n",
       "2  1  2  3  4  5"
      ]
     },
     "execution_count": 7,
     "metadata": {},
     "output_type": "execute_result"
    }
   ],
   "source": [
    "df = pd.DataFrame([lst,lst,lst], columns=['A','B','C','D','E'])\n",
    "df"
   ]
  },
  {
   "cell_type": "code",
   "execution_count": 8,
   "id": "91f296fe-c6ba-4d48-a48d-81acf444fcf9",
   "metadata": {},
   "outputs": [
    {
     "name": "stdout",
     "output_type": "stream",
     "text": [
      "       0\n",
      "0  Geeks\n",
      "1    For\n",
      "2  Geeks\n"
     ]
    }
   ],
   "source": [
    "import pandas as pd\n",
    "lst = ['Geeks', 'For','Geeks']\n",
    "df = pd.DataFrame(lst)\n",
    "print(df)"
   ]
  },
  {
   "cell_type": "code",
   "execution_count": 9,
   "id": "a056f302-8552-4caf-ab7c-53649f8e2356",
   "metadata": {},
   "outputs": [
    {
     "name": "stdout",
     "output_type": "stream",
     "text": [
      "Pandas Series:  Series([], dtype: object)\n",
      "Pandas Series:\n",
      " 0    g\n",
      "1    e\n",
      "2    e\n",
      "3    k\n",
      "4    s\n",
      "dtype: object\n"
     ]
    }
   ],
   "source": [
    "#Pandas Series\n",
    "#A pandas series is a 1d array capable of holding data of any type(float,integer,string,python objects etc)\n",
    "#Creating a series using the Pandas Library.\n",
    "import pandas as pd\n",
    "import numpy as np\n",
    "#Creating empty series\n",
    "ser = pd.Series()\n",
    "print(\"Pandas Series: \", ser)\n",
    "#Simple array\n",
    "data = np.array(['g','e','e','k','s'])\n",
    "ser = pd.Series(data)\n",
    "print(\"Pandas Series:\\n\", ser)"
   ]
  },
  {
   "cell_type": "code",
   "execution_count": 10,
   "id": "3bb11699-f5d6-470c-92e9-a0e234c8b292",
   "metadata": {},
   "outputs": [
    {
     "name": "stdout",
     "output_type": "stream",
     "text": [
      "Empty DataFrame\n",
      "Columns: []\n",
      "Index: []\n",
      "        0\n",
      "0   Geeks\n",
      "1     for\n",
      "2   Geeks\n",
      "3      is\n",
      "4       a\n",
      "5  portal\n",
      "6     for\n",
      "7   geeks\n"
     ]
    }
   ],
   "source": [
    "#Pandas DataFrame\n",
    "#A Dataframe is a 2d structure constructed with rows and columns similar to excel spreadsheets\n",
    "#Creating a DataFrame Using the Pandas Library\n",
    "import pandas as pd\n",
    "#calling dataframe constructor\n",
    "df = pd.DataFrame()\n",
    "print(df)\n",
    "#List of strings\n",
    "lst = [\"Geeks\",\"for\",'Geeks','is','a','portal','for','geeks']\n",
    "#calling dataframe constructor on lst\n",
    "df = pd.DataFrame(lst)\n",
    "print(df)"
   ]
  },
  {
   "cell_type": "code",
   "execution_count": 11,
   "id": "ee4852a0-06e6-4e85-abb0-1e6f7aa902ef",
   "metadata": {},
   "outputs": [
    {
     "name": "stdout",
     "output_type": "stream",
     "text": [
      "Empty DataFrame\n",
      "Columns: []\n",
      "Index: []\n"
     ]
    }
   ],
   "source": [
    "#Creating an Empty DataFrame\n",
    "import pandas as pd\n",
    "df = pd.DataFrame()\n",
    "print(df)"
   ]
  },
  {
   "cell_type": "code",
   "execution_count": 12,
   "id": "7ad4eb20-948c-47d5-a391-d138d179aa72",
   "metadata": {},
   "outputs": [
    {
     "name": "stdout",
     "output_type": "stream",
     "text": [
      "       0\n",
      "0  Geeks\n",
      "1    For\n",
      "2  Geeks\n"
     ]
    }
   ],
   "source": [
    "#Creating a DataFrame from a List\n",
    "import pandas as pd\n",
    "lst = ['Geeks','For','Geeks']\n",
    "df = pd.DataFrame(lst)\n",
    "print(df)"
   ]
  },
  {
   "cell_type": "code",
   "execution_count": 13,
   "id": "f851ed7f-d6cc-4c95-a128-4c131524533c",
   "metadata": {},
   "outputs": [
    {
     "name": "stdout",
     "output_type": "stream",
     "text": [
      "   A  B  C\n",
      "0  1  2  3\n",
      "1  4  5  6\n",
      "2  7  8  9\n"
     ]
    }
   ],
   "source": [
    "#Creating DataFrame from dict of Numpy Array\n",
    "import numpy as np\n",
    "import pandas as pd\n",
    "data = np.array([[1,2,3],[4,5,6],[7,8,9]])\n",
    "df = pd.DataFrame(data, columns= ['A','B','C'])\n",
    "print(df)"
   ]
  },
  {
   "cell_type": "code",
   "execution_count": 14,
   "id": "4a8e342e-81ac-4242-bc26-ab47dafbc394",
   "metadata": {},
   "outputs": [
    {
     "name": "stdout",
     "output_type": "stream",
     "text": [
      "     name  degree  score\n",
      "0  aparna     MBA     90\n",
      "1  Pankaj     BCA     40\n",
      "2  sudhir  M.Tech     80\n",
      "3   Geeku     MBA     98\n"
     ]
    }
   ],
   "source": [
    "#Creating a DataFrame from a List of Dictionaries  \n",
    "import pandas as pd\n",
    "dict = {'name':[\"aparna\",\"Pankaj\",\"sudhir\",\"Geeku\"],\n",
    "       'degree': [\"MBA\",\"BCA\",\"M.Tech\",\"MBA\"],\n",
    "       'score':[90,40,80,98]}\n",
    "df = pd.DataFrame(dict)\n",
    "print(df)"
   ]
  },
  {
   "cell_type": "code",
   "execution_count": 15,
   "id": "026d2a0d-a5d0-431b-82a9-6c1cb0818ee9",
   "metadata": {},
   "outputs": [
    {
     "name": "stdout",
     "output_type": "stream",
     "text": [
      "0    1\n",
      "1    2\n",
      "2    3\n",
      "3    4\n",
      "dtype: int64\n"
     ]
    }
   ],
   "source": [
    "#Python Pandas Series\n",
    "import pandas as pd\n",
    "#simple array\n",
    "data = [1,2,3,4]\n",
    "ser = pd.Series(data)\n",
    "print(ser)"
   ]
  },
  {
   "cell_type": "code",
   "execution_count": 16,
   "id": "cc92aef7-1221-4460-a1cf-9e544002d709",
   "metadata": {},
   "outputs": [
    {
     "name": "stdout",
     "output_type": "stream",
     "text": [
      "0    g\n",
      "1    e\n",
      "2    e\n",
      "3    k\n",
      "4    s\n",
      "dtype: object\n"
     ]
    }
   ],
   "source": [
    "#Creating a Pandas Series\n",
    "#Creating a series from array:in order to create a series from an array,we have to import a numpy module and have to use array() function.\n",
    "import pandas as pd\n",
    "import numpy as np\n",
    "data = np.array(['g','e','e','k','s'])\n",
    "ser = pd.Series(data)\n",
    "print(ser)"
   ]
  },
  {
   "cell_type": "code",
   "execution_count": 17,
   "id": "761e8c25-5784-4680-8b0a-1035a15f1766",
   "metadata": {},
   "outputs": [
    {
     "name": "stdout",
     "output_type": "stream",
     "text": [
      "0    g\n",
      "1    e\n",
      "2    e\n",
      "3    k\n",
      "4    s\n",
      "dtype: object\n"
     ]
    }
   ],
   "source": [
    "#creating a series from list\n",
    "#In order to create a series from list, we have to first create a list after that we can create a series from list.\n",
    "import pandas as pd\n",
    "#a simple list\n",
    "list = ['g','e','e','k','s']\n",
    "#create a series from the list\n",
    "ser = pd.Series(list)\n",
    "print(ser)"
   ]
  },
  {
   "cell_type": "code",
   "execution_count": 18,
   "id": "fda81361-39a3-4538-b818-eb393d5fbbcc",
   "metadata": {},
   "outputs": [
    {
     "name": "stdout",
     "output_type": "stream",
     "text": [
      "0    g\n",
      "1    e\n",
      "2    e\n",
      "3    k\n",
      "4    s\n",
      "dtype: object\n"
     ]
    }
   ],
   "source": [
    "#Accessing element of Series\n",
    "#There are two ways through which we can access element of series, they are :\n",
    "#Accessing Element from Series with Position\n",
    "#Accessing Element Using Label (index)\n",
    "#Accessing first 5 elements of Series.\n",
    "import pandas as pd\n",
    "import numpy as np\n",
    "#creating a simple array\n",
    "data = np.array(['g','e','e','k','s','f', 'o','r','g','e','e','k','s'])\n",
    "ser = pd.Series(data)\n",
    "#retrieve the first element\n",
    "print(ser[:5])"
   ]
  },
  {
   "cell_type": "code",
   "execution_count": 19,
   "id": "05fcbef0-7a66-471c-bb6f-b56643fb9cc6",
   "metadata": {},
   "outputs": [
    {
     "name": "stdout",
     "output_type": "stream",
     "text": [
      "3     k\n",
      "4     s\n",
      "5     f\n",
      "6     o\n",
      "7     r\n",
      "8     g\n",
      "9     e\n",
      "10    e\n",
      "11    k\n",
      "12    s\n",
      "dtype: object\n"
     ]
    }
   ],
   "source": [
    "#Accessing Last 10 Elements of Series\n",
    "import pandas as pd\n",
    "import numpy as np\n",
    "#create simple array\n",
    "data = np.array(['g','e','e','k','s','f', 'o','r','g','e','e','k','s'])\n",
    "ser = pd.Series(data)\n",
    "print(ser[-10:])"
   ]
  },
  {
   "cell_type": "code",
   "execution_count": 20,
   "id": "7fe5d32b-4b23-4f50-b367-359ba667f8ca",
   "metadata": {},
   "outputs": [
    {
     "name": "stdout",
     "output_type": "stream",
     "text": [
      "o\n"
     ]
    }
   ],
   "source": [
    "#Accessing Element Using Label (index) :\n",
    "#Accessing a single element using index label.\n",
    "import pandas as pd\n",
    "import numpy as np\n",
    "#create a simple array\n",
    "data = np.array(['g','e','e','k','s','f', 'o','r','g','e','e','k','s'])\n",
    "ser = pd.Series(data,index=[10,11,12,13,14,15,16,17,18,19,20,21,22])\n",
    "#accessing a element using index element\n",
    "print(ser[16])"
   ]
  },
  {
   "cell_type": "code",
   "execution_count": 21,
   "id": "a2fee91a-99e2-430a-af30-07e21d2e5e1a",
   "metadata": {},
   "outputs": [
    {
     "name": "stdout",
     "output_type": "stream",
     "text": [
      "10    g\n",
      "11    e\n",
      "12    e\n",
      "13    k\n",
      "14    s\n",
      "dtype: object\n"
     ]
    }
   ],
   "source": [
    "#Accessing a Multiple Element Using index Label\n",
    "import pandas as pd\n",
    "import numpy as np\n",
    "#creating simple array\n",
    "data = np.array(['g','e','e','k','s','f', 'o','r','g','e','e','k','s'])\n",
    "ser = pd.Series(data,index=[10,11,12,13,14,15,16,17,18,19,20,21,22])\n",
    "#accesing a multiple element using \n",
    "#index element\n",
    "print(ser[[10,11,12,13,14]])"
   ]
  },
  {
   "cell_type": "code",
   "execution_count": 22,
   "id": "6559ad39-d434-4631-afd1-462747debb5c",
   "metadata": {},
   "outputs": [
    {
     "name": "stdout",
     "output_type": "stream",
     "text": [
      "a    3\n",
      "d    6\n",
      "dtype: int32\n"
     ]
    }
   ],
   "source": [
    "#Access Multiple Elements by Providing Label of Index\n",
    "import pandas as pd\n",
    "import numpy as np\n",
    "ser = pd.Series(np.arange(3,9),index = ['a','b','c','d','e','f'])\n",
    "print(ser[['a','d']])"
   ]
  },
  {
   "cell_type": "code",
   "execution_count": 23,
   "id": "f3e436e7-e5fa-4a66-9658-072b7cbdf2cf",
   "metadata": {},
   "outputs": [
    {
     "name": "stdout",
     "output_type": "stream",
     "text": [
      "A    5\n",
      "B    7\n",
      "C    9\n",
      "dtype: int64\n"
     ]
    }
   ],
   "source": [
    "#Binary Operations on Pandas Series\n",
    "#Performing Binary Operations\n",
    "import pandas as pd\n",
    "ser1 = pd.Series([1,2,3],index=['A','B','C'])\n",
    "ser2 = pd.Series([4,5,6],index=['A','B','C'])\n",
    "df_sum = ser1.add(ser2)\n",
    "print(df_sum)\n",
    "#Each element of ser1 is added to the corresponding element of ser2 by matching the index labels (A,B,C)."
   ]
  },
  {
   "cell_type": "code",
   "execution_count": 24,
   "id": "74c97784-de82-4a21-b0c7-1e1ea7239edc",
   "metadata": {},
   "outputs": [
    {
     "name": "stdout",
     "output_type": "stream",
     "text": [
      "0    1.0\n",
      "1    2.0\n",
      "2    3.0\n",
      "3    4.0\n",
      "dtype: float64\n"
     ]
    }
   ],
   "source": [
    "#Conversion Operation on Series\n",
    "import pandas as pd\n",
    "ser = pd.Series([1,2,3,4])\n",
    "ser = ser.astype(float)\n",
    "print(ser)"
   ]
  },
  {
   "cell_type": "code",
   "execution_count": 25,
   "id": "d8dc9dff-1f25-4edd-b6c9-7a18f8250a90",
   "metadata": {},
   "outputs": [
    {
     "name": "stdout",
     "output_type": "stream",
     "text": [
      "Series([], dtype: object)\n"
     ]
    }
   ],
   "source": [
    "#Creating an Empty Pandas Series\n",
    "import pandas as pd\n",
    "ser = pd.Series()\n",
    "print(ser)"
   ]
  },
  {
   "cell_type": "code",
   "execution_count": 26,
   "id": "fb943a0d-100f-42c1-88c2-0bfd05f7d40f",
   "metadata": {},
   "outputs": [
    {
     "name": "stdout",
     "output_type": "stream",
     "text": [
      "0    g\n",
      "1    e\n",
      "2    e\n",
      "3    k\n",
      "4    s\n",
      "dtype: object\n"
     ]
    }
   ],
   "source": [
    "#Creating a Series from a Numpy Array\n",
    "import pandas as pd\n",
    "import numpy as np\n",
    "data = np.array(['g','e','e','k','s'])\n",
    "ser = pd.Series(data)\n",
    "print(ser)"
   ]
  },
  {
   "cell_type": "code",
   "execution_count": 27,
   "id": "485712b4-3c6b-44f9-be90-828a49293c2d",
   "metadata": {},
   "outputs": [
    {
     "name": "stdout",
     "output_type": "stream",
     "text": [
      "0    g\n",
      "1    e\n",
      "2    e\n",
      "3    k\n",
      "4    s\n",
      "dtype: object\n"
     ]
    }
   ],
   "source": [
    "#Creating a Series from a List\n",
    "import pandas as pd\n",
    "data_list = ['g','e','e','k','s']\n",
    "ser = pd.Series(data_list)\n",
    "print(ser)"
   ]
  },
  {
   "cell_type": "code",
   "execution_count": 28,
   "id": "c4d26222-5cd9-4c29-a5f9-aad654f6eaca",
   "metadata": {},
   "outputs": [
    {
     "name": "stdout",
     "output_type": "stream",
     "text": [
      "Geeks    10\n",
      "For      20\n",
      "geeks    30\n",
      "dtype: int64\n"
     ]
    }
   ],
   "source": [
    "#Creating a Series from a Dictionary\n",
    "import pandas as pd\n",
    "data_dict = {'Geeks':10, 'For':20, 'geeks':30}\n",
    "ser = pd.Series(data_dict)\n",
    "print(ser)"
   ]
  },
  {
   "cell_type": "code",
   "execution_count": 29,
   "id": "e6f7317e-d3fd-450d-934b-5309dbdb4085",
   "metadata": {},
   "outputs": [
    {
     "name": "stdout",
     "output_type": "stream",
     "text": [
      "0     1.00\n",
      "1     3.25\n",
      "2     5.50\n",
      "3     7.75\n",
      "4    10.00\n",
      "dtype: float64\n"
     ]
    }
   ],
   "source": [
    "#Creating a Series Using NumPy Functions\n",
    "import pandas as pd\n",
    "import numpy as np\n",
    "ser = pd.Series(np.linspace(1,10,5))\n",
    "print(ser)"
   ]
  },
  {
   "cell_type": "code",
   "execution_count": 30,
   "id": "8a55a196-2d0f-4695-909c-17bfffcc9e2f",
   "metadata": {},
   "outputs": [
    {
     "name": "stdout",
     "output_type": "stream",
     "text": [
      "0     5\n",
      "1     6\n",
      "2     7\n",
      "3     8\n",
      "4     9\n",
      "5    10\n",
      "6    11\n",
      "7    12\n",
      "8    13\n",
      "9    14\n",
      "dtype: int64\n"
     ]
    }
   ],
   "source": [
    "#Creating a Series Using range()\n",
    "import pandas as pd\n",
    "ser = pd.Series(range(5,15))\n",
    "print(ser)"
   ]
  },
  {
   "cell_type": "code",
   "execution_count": 31,
   "id": "1a02649c-540d-43df-bb0f-ec5b80206abd",
   "metadata": {},
   "outputs": [
    {
     "name": "stdout",
     "output_type": "stream",
     "text": [
      "a     1\n",
      "b     4\n",
      "c     7\n",
      "d    10\n",
      "e    13\n",
      "f    16\n",
      "g    19\n",
      "dtype: int64\n"
     ]
    }
   ],
   "source": [
    "#Creating a Series Using List Comprehension\n",
    "import pandas as pd\n",
    "ser = pd.Series(range(1,20,3),index=[x for x in 'abcdefg'])\n",
    "print(ser)"
   ]
  },
  {
   "cell_type": "code",
   "execution_count": 35,
   "id": "15dc10b7-3173-4d38-a319-fd7760209358",
   "metadata": {},
   "outputs": [
    {
     "data": {
      "text/html": [
       "<div>\n",
       "<style scoped>\n",
       "    .dataframe tbody tr th:only-of-type {\n",
       "        vertical-align: middle;\n",
       "    }\n",
       "\n",
       "    .dataframe tbody tr th {\n",
       "        vertical-align: top;\n",
       "    }\n",
       "\n",
       "    .dataframe thead th {\n",
       "        text-align: right;\n",
       "    }\n",
       "</style>\n",
       "<table border=\"1\" class=\"dataframe\">\n",
       "  <thead>\n",
       "    <tr style=\"text-align: right;\">\n",
       "      <th></th>\n",
       "      <th>Name</th>\n",
       "      <th>Team</th>\n",
       "      <th>Number</th>\n",
       "      <th>Position</th>\n",
       "      <th>Age</th>\n",
       "      <th>Height</th>\n",
       "      <th>Weight</th>\n",
       "      <th>College</th>\n",
       "      <th>Salary</th>\n",
       "    </tr>\n",
       "  </thead>\n",
       "  <tbody>\n",
       "    <tr>\n",
       "      <th>0</th>\n",
       "      <td>Avery Bradley</td>\n",
       "      <td>Boston Celtics</td>\n",
       "      <td>0.0</td>\n",
       "      <td>PG</td>\n",
       "      <td>25.0</td>\n",
       "      <td>6-2</td>\n",
       "      <td>180.0</td>\n",
       "      <td>Texas</td>\n",
       "      <td>7730337.0</td>\n",
       "    </tr>\n",
       "    <tr>\n",
       "      <th>1</th>\n",
       "      <td>Jae Crowder</td>\n",
       "      <td>Boston Celtics</td>\n",
       "      <td>99.0</td>\n",
       "      <td>SF</td>\n",
       "      <td>25.0</td>\n",
       "      <td>6-6</td>\n",
       "      <td>235.0</td>\n",
       "      <td>Marquette</td>\n",
       "      <td>6796117.0</td>\n",
       "    </tr>\n",
       "    <tr>\n",
       "      <th>2</th>\n",
       "      <td>John Holland</td>\n",
       "      <td>Boston Celtics</td>\n",
       "      <td>30.0</td>\n",
       "      <td>SG</td>\n",
       "      <td>27.0</td>\n",
       "      <td>6-5</td>\n",
       "      <td>205.0</td>\n",
       "      <td>Boston University</td>\n",
       "      <td>NaN</td>\n",
       "    </tr>\n",
       "    <tr>\n",
       "      <th>3</th>\n",
       "      <td>R.J. Hunter</td>\n",
       "      <td>Boston Celtics</td>\n",
       "      <td>28.0</td>\n",
       "      <td>SG</td>\n",
       "      <td>22.0</td>\n",
       "      <td>6-5</td>\n",
       "      <td>185.0</td>\n",
       "      <td>Georgia State</td>\n",
       "      <td>1148640.0</td>\n",
       "    </tr>\n",
       "    <tr>\n",
       "      <th>4</th>\n",
       "      <td>Jonas Jerebko</td>\n",
       "      <td>Boston Celtics</td>\n",
       "      <td>8.0</td>\n",
       "      <td>PF</td>\n",
       "      <td>29.0</td>\n",
       "      <td>6-10</td>\n",
       "      <td>231.0</td>\n",
       "      <td>NaN</td>\n",
       "      <td>5000000.0</td>\n",
       "    </tr>\n",
       "  </tbody>\n",
       "</table>\n",
       "</div>"
      ],
      "text/plain": [
       "            Name            Team  Number Position   Age Height  Weight  \\\n",
       "0  Avery Bradley  Boston Celtics     0.0       PG  25.0    6-2   180.0   \n",
       "1    Jae Crowder  Boston Celtics    99.0       SF  25.0    6-6   235.0   \n",
       "2   John Holland  Boston Celtics    30.0       SG  27.0    6-5   205.0   \n",
       "3    R.J. Hunter  Boston Celtics    28.0       SG  22.0    6-5   185.0   \n",
       "4  Jonas Jerebko  Boston Celtics     8.0       PF  29.0   6-10   231.0   \n",
       "\n",
       "             College     Salary  \n",
       "0              Texas  7730337.0  \n",
       "1          Marquette  6796117.0  \n",
       "2  Boston University        NaN  \n",
       "3      Georgia State  1148640.0  \n",
       "4                NaN  5000000.0  "
      ]
     },
     "execution_count": 35,
     "metadata": {},
     "output_type": "execute_result"
    }
   ],
   "source": [
    "import pandas as pd\n",
    "\n",
    "df = pd.read_csv('nba.csv') \n",
    "df.head()\n"
   ]
  },
  {
   "cell_type": "code",
   "execution_count": 1,
   "id": "5ee19d8c-6189-4283-abf2-44546c2963c4",
   "metadata": {},
   "outputs": [
    {
     "data": {
      "text/html": [
       "<div>\n",
       "<style scoped>\n",
       "    .dataframe tbody tr th:only-of-type {\n",
       "        vertical-align: middle;\n",
       "    }\n",
       "\n",
       "    .dataframe tbody tr th {\n",
       "        vertical-align: top;\n",
       "    }\n",
       "\n",
       "    .dataframe thead th {\n",
       "        text-align: right;\n",
       "    }\n",
       "</style>\n",
       "<table border=\"1\" class=\"dataframe\">\n",
       "  <thead>\n",
       "    <tr style=\"text-align: right;\">\n",
       "      <th></th>\n",
       "      <th>Name</th>\n",
       "      <th>Team</th>\n",
       "      <th>Number</th>\n",
       "      <th>Position</th>\n",
       "      <th>Age</th>\n",
       "      <th>Height</th>\n",
       "      <th>Weight</th>\n",
       "      <th>College</th>\n",
       "      <th>Salary</th>\n",
       "    </tr>\n",
       "  </thead>\n",
       "  <tbody>\n",
       "    <tr>\n",
       "      <th>0</th>\n",
       "      <td>Avery Bradley</td>\n",
       "      <td>Boston Celtics</td>\n",
       "      <td>0.0</td>\n",
       "      <td>PG</td>\n",
       "      <td>25.0</td>\n",
       "      <td>6-2</td>\n",
       "      <td>180.0</td>\n",
       "      <td>Texas</td>\n",
       "      <td>7730337.0</td>\n",
       "    </tr>\n",
       "    <tr>\n",
       "      <th>1</th>\n",
       "      <td>Jae Crowder</td>\n",
       "      <td>Boston Celtics</td>\n",
       "      <td>99.0</td>\n",
       "      <td>SF</td>\n",
       "      <td>25.0</td>\n",
       "      <td>6-6</td>\n",
       "      <td>235.0</td>\n",
       "      <td>Marquette</td>\n",
       "      <td>6796117.0</td>\n",
       "    </tr>\n",
       "    <tr>\n",
       "      <th>2</th>\n",
       "      <td>John Holland</td>\n",
       "      <td>Boston Celtics</td>\n",
       "      <td>30.0</td>\n",
       "      <td>SG</td>\n",
       "      <td>27.0</td>\n",
       "      <td>6-5</td>\n",
       "      <td>205.0</td>\n",
       "      <td>Boston University</td>\n",
       "      <td>NaN</td>\n",
       "    </tr>\n",
       "    <tr>\n",
       "      <th>3</th>\n",
       "      <td>R.J. Hunter</td>\n",
       "      <td>Boston Celtics</td>\n",
       "      <td>28.0</td>\n",
       "      <td>SG</td>\n",
       "      <td>22.0</td>\n",
       "      <td>6-5</td>\n",
       "      <td>185.0</td>\n",
       "      <td>Georgia State</td>\n",
       "      <td>1148640.0</td>\n",
       "    </tr>\n",
       "    <tr>\n",
       "      <th>4</th>\n",
       "      <td>Jonas Jerebko</td>\n",
       "      <td>Boston Celtics</td>\n",
       "      <td>8.0</td>\n",
       "      <td>PF</td>\n",
       "      <td>29.0</td>\n",
       "      <td>6-10</td>\n",
       "      <td>231.0</td>\n",
       "      <td>NaN</td>\n",
       "      <td>5000000.0</td>\n",
       "    </tr>\n",
       "  </tbody>\n",
       "</table>\n",
       "</div>"
      ],
      "text/plain": [
       "            Name            Team  Number Position   Age Height  Weight  \\\n",
       "0  Avery Bradley  Boston Celtics     0.0       PG  25.0    6-2   180.0   \n",
       "1    Jae Crowder  Boston Celtics    99.0       SF  25.0    6-6   235.0   \n",
       "2   John Holland  Boston Celtics    30.0       SG  27.0    6-5   205.0   \n",
       "3    R.J. Hunter  Boston Celtics    28.0       SG  22.0    6-5   185.0   \n",
       "4  Jonas Jerebko  Boston Celtics     8.0       PF  29.0   6-10   231.0   \n",
       "\n",
       "             College     Salary  \n",
       "0              Texas  7730337.0  \n",
       "1          Marquette  6796117.0  \n",
       "2  Boston University        NaN  \n",
       "3      Georgia State  1148640.0  \n",
       "4                NaN  5000000.0  "
      ]
     },
     "execution_count": 1,
     "metadata": {},
     "output_type": "execute_result"
    }
   ],
   "source": [
    "#Python | Pandas Dataframe/Series.head() method\n",
    "import pandas as pd\n",
    "data = pd.read_csv('nba.csv')\n",
    "data_top = data.head()\n",
    "data_top"
   ]
  },
  {
   "cell_type": "code",
   "execution_count": 3,
   "id": "a6ed1723-881a-46c8-a519-ec7cf3fd63d4",
   "metadata": {},
   "outputs": [
    {
     "data": {
      "text/plain": [
       "0    Avery Bradley\n",
       "1      Jae Crowder\n",
       "2     John Holland\n",
       "3      R.J. Hunter\n",
       "4    Jonas Jerebko\n",
       "5     Amir Johnson\n",
       "6    Jordan Mickey\n",
       "7     Kelly Olynyk\n",
       "8     Terry Rozier\n",
       "Name: Name, dtype: object"
      ]
     },
     "execution_count": 3,
     "metadata": {},
     "output_type": "execute_result"
    }
   ],
   "source": [
    "#Calling on Series with n parameter()\n",
    "import pandas as pd\n",
    "data = pd.read_csv('nba.csv')\n",
    "#number of rows to return\n",
    "n = 9\n",
    "# creating Series\n",
    "Series = data[\"Name\"]\n",
    "# returning top n rows\n",
    "top = Series.head(n = n)\n",
    "#display\n",
    "top"
   ]
  },
  {
   "cell_type": "code",
   "execution_count": 5,
   "id": "401c0953-516e-44cd-8dce-8f500e8664e2",
   "metadata": {},
   "outputs": [
    {
     "name": "stdout",
     "output_type": "stream",
     "text": [
      "             Name       Team  Number Position   Age Height  Weight College  \\\n",
      "453  Shelvin Mack  Utah Jazz     8.0       PG  26.0    6-3   203.0  Butler   \n",
      "454     Raul Neto  Utah Jazz    25.0       PG  24.0    6-1   179.0     NaN   \n",
      "455  Tibor Pleiss  Utah Jazz    21.0        C  26.0    7-3   256.0     NaN   \n",
      "456   Jeff Withey  Utah Jazz    24.0        C  26.0    7-0   231.0  Kansas   \n",
      "457           NaN        NaN     NaN      NaN   NaN    NaN     NaN     NaN   \n",
      "\n",
      "        Salary  \n",
      "453  2433333.0  \n",
      "454   900000.0  \n",
      "455  2900000.0  \n",
      "456   947276.0  \n",
      "457        NaN  \n"
     ]
    }
   ],
   "source": [
    "#Pandas Dataframe/Series.tail() method – Python\n",
    "import pandas as pd\n",
    "data = pd.read_csv('nba.csv')\n",
    "print(data.tail())"
   ]
  },
  {
   "cell_type": "code",
   "execution_count": 8,
   "id": "0660e963-82cb-4e12-a459-c01c483c4f05",
   "metadata": {},
   "outputs": [
    {
     "name": "stdout",
     "output_type": "stream",
     "text": [
      "446    Utah Jazz\n",
      "447    Utah Jazz\n",
      "448    Utah Jazz\n",
      "449    Utah Jazz\n",
      "450    Utah Jazz\n",
      "451    Utah Jazz\n",
      "452    Utah Jazz\n",
      "453    Utah Jazz\n",
      "454    Utah Jazz\n",
      "455    Utah Jazz\n",
      "456    Utah Jazz\n",
      "457          NaN\n",
      "Name: Team, dtype: object\n"
     ]
    }
   ],
   "source": [
    "#Getting the Last 12 Rows of a Series\n",
    "import pandas as pd\n",
    "data = pd.read_csv('nba.csv')\n",
    "n = 12\n",
    "Series = data[\"Team\"]\n",
    "print(Series.tail(n))"
   ]
  },
  {
   "cell_type": "code",
   "execution_count": 8,
   "id": "289b6679-bec1-4e7e-bf17-48091fcfcecd",
   "metadata": {},
   "outputs": [
    {
     "name": "stdout",
     "output_type": "stream",
     "text": [
      "NBA Dataset: \n"
     ]
    },
    {
     "data": {
      "text/html": [
       "<div>\n",
       "<style scoped>\n",
       "    .dataframe tbody tr th:only-of-type {\n",
       "        vertical-align: middle;\n",
       "    }\n",
       "\n",
       "    .dataframe tbody tr th {\n",
       "        vertical-align: top;\n",
       "    }\n",
       "\n",
       "    .dataframe thead th {\n",
       "        text-align: right;\n",
       "    }\n",
       "</style>\n",
       "<table border=\"1\" class=\"dataframe\">\n",
       "  <thead>\n",
       "    <tr style=\"text-align: right;\">\n",
       "      <th></th>\n",
       "      <th>Name</th>\n",
       "      <th>Team</th>\n",
       "      <th>Number</th>\n",
       "      <th>Position</th>\n",
       "      <th>Age</th>\n",
       "      <th>Height</th>\n",
       "      <th>Weight</th>\n",
       "      <th>College</th>\n",
       "      <th>Salary</th>\n",
       "    </tr>\n",
       "  </thead>\n",
       "  <tbody>\n",
       "    <tr>\n",
       "      <th>0</th>\n",
       "      <td>Avery Bradley</td>\n",
       "      <td>Boston Celtics</td>\n",
       "      <td>0.0</td>\n",
       "      <td>PG</td>\n",
       "      <td>25.0</td>\n",
       "      <td>6-2</td>\n",
       "      <td>180.0</td>\n",
       "      <td>Texas</td>\n",
       "      <td>7730337.0</td>\n",
       "    </tr>\n",
       "    <tr>\n",
       "      <th>1</th>\n",
       "      <td>Jae Crowder</td>\n",
       "      <td>Boston Celtics</td>\n",
       "      <td>99.0</td>\n",
       "      <td>SF</td>\n",
       "      <td>25.0</td>\n",
       "      <td>6-6</td>\n",
       "      <td>235.0</td>\n",
       "      <td>Marquette</td>\n",
       "      <td>6796117.0</td>\n",
       "    </tr>\n",
       "    <tr>\n",
       "      <th>2</th>\n",
       "      <td>John Holland</td>\n",
       "      <td>Boston Celtics</td>\n",
       "      <td>30.0</td>\n",
       "      <td>SG</td>\n",
       "      <td>27.0</td>\n",
       "      <td>6-5</td>\n",
       "      <td>205.0</td>\n",
       "      <td>Boston University</td>\n",
       "      <td>NaN</td>\n",
       "    </tr>\n",
       "    <tr>\n",
       "      <th>3</th>\n",
       "      <td>R.J. Hunter</td>\n",
       "      <td>Boston Celtics</td>\n",
       "      <td>28.0</td>\n",
       "      <td>SG</td>\n",
       "      <td>22.0</td>\n",
       "      <td>6-5</td>\n",
       "      <td>185.0</td>\n",
       "      <td>Georgia State</td>\n",
       "      <td>1148640.0</td>\n",
       "    </tr>\n",
       "    <tr>\n",
       "      <th>4</th>\n",
       "      <td>Jonas Jerebko</td>\n",
       "      <td>Boston Celtics</td>\n",
       "      <td>8.0</td>\n",
       "      <td>PF</td>\n",
       "      <td>29.0</td>\n",
       "      <td>6-10</td>\n",
       "      <td>231.0</td>\n",
       "      <td>NaN</td>\n",
       "      <td>5000000.0</td>\n",
       "    </tr>\n",
       "  </tbody>\n",
       "</table>\n",
       "</div>"
      ],
      "text/plain": [
       "            Name            Team  Number Position   Age Height  Weight  \\\n",
       "0  Avery Bradley  Boston Celtics     0.0       PG  25.0    6-2   180.0   \n",
       "1    Jae Crowder  Boston Celtics    99.0       SF  25.0    6-6   235.0   \n",
       "2   John Holland  Boston Celtics    30.0       SG  27.0    6-5   205.0   \n",
       "3    R.J. Hunter  Boston Celtics    28.0       SG  22.0    6-5   185.0   \n",
       "4  Jonas Jerebko  Boston Celtics     8.0       PF  29.0   6-10   231.0   \n",
       "\n",
       "             College     Salary  \n",
       "0              Texas  7730337.0  \n",
       "1          Marquette  6796117.0  \n",
       "2  Boston University        NaN  \n",
       "3      Georgia State  1148640.0  \n",
       "4                NaN  5000000.0  "
      ]
     },
     "metadata": {},
     "output_type": "display_data"
    },
    {
     "name": "stdout",
     "output_type": "stream",
     "text": [
      " \n",
      " Summarry Table Generated by .describe() Method: \n"
     ]
    },
    {
     "data": {
      "text/html": [
       "<div>\n",
       "<style scoped>\n",
       "    .dataframe tbody tr th:only-of-type {\n",
       "        vertical-align: middle;\n",
       "    }\n",
       "\n",
       "    .dataframe tbody tr th {\n",
       "        vertical-align: top;\n",
       "    }\n",
       "\n",
       "    .dataframe thead th {\n",
       "        text-align: right;\n",
       "    }\n",
       "</style>\n",
       "<table border=\"1\" class=\"dataframe\">\n",
       "  <thead>\n",
       "    <tr style=\"text-align: right;\">\n",
       "      <th></th>\n",
       "      <th>Number</th>\n",
       "      <th>Age</th>\n",
       "      <th>Weight</th>\n",
       "      <th>Salary</th>\n",
       "    </tr>\n",
       "  </thead>\n",
       "  <tbody>\n",
       "    <tr>\n",
       "      <th>count</th>\n",
       "      <td>457.000000</td>\n",
       "      <td>457.000000</td>\n",
       "      <td>457.000000</td>\n",
       "      <td>4.460000e+02</td>\n",
       "    </tr>\n",
       "    <tr>\n",
       "      <th>mean</th>\n",
       "      <td>17.678337</td>\n",
       "      <td>26.938731</td>\n",
       "      <td>221.522976</td>\n",
       "      <td>4.842684e+06</td>\n",
       "    </tr>\n",
       "    <tr>\n",
       "      <th>std</th>\n",
       "      <td>15.966090</td>\n",
       "      <td>4.404016</td>\n",
       "      <td>26.368343</td>\n",
       "      <td>5.229238e+06</td>\n",
       "    </tr>\n",
       "    <tr>\n",
       "      <th>min</th>\n",
       "      <td>0.000000</td>\n",
       "      <td>19.000000</td>\n",
       "      <td>161.000000</td>\n",
       "      <td>3.088800e+04</td>\n",
       "    </tr>\n",
       "    <tr>\n",
       "      <th>25%</th>\n",
       "      <td>5.000000</td>\n",
       "      <td>24.000000</td>\n",
       "      <td>200.000000</td>\n",
       "      <td>1.044792e+06</td>\n",
       "    </tr>\n",
       "    <tr>\n",
       "      <th>50%</th>\n",
       "      <td>13.000000</td>\n",
       "      <td>26.000000</td>\n",
       "      <td>220.000000</td>\n",
       "      <td>2.839073e+06</td>\n",
       "    </tr>\n",
       "    <tr>\n",
       "      <th>75%</th>\n",
       "      <td>25.000000</td>\n",
       "      <td>30.000000</td>\n",
       "      <td>240.000000</td>\n",
       "      <td>6.500000e+06</td>\n",
       "    </tr>\n",
       "    <tr>\n",
       "      <th>max</th>\n",
       "      <td>99.000000</td>\n",
       "      <td>40.000000</td>\n",
       "      <td>307.000000</td>\n",
       "      <td>2.500000e+07</td>\n",
       "    </tr>\n",
       "  </tbody>\n",
       "</table>\n",
       "</div>"
      ],
      "text/plain": [
       "           Number         Age      Weight        Salary\n",
       "count  457.000000  457.000000  457.000000  4.460000e+02\n",
       "mean    17.678337   26.938731  221.522976  4.842684e+06\n",
       "std     15.966090    4.404016   26.368343  5.229238e+06\n",
       "min      0.000000   19.000000  161.000000  3.088800e+04\n",
       "25%      5.000000   24.000000  200.000000  1.044792e+06\n",
       "50%     13.000000   26.000000  220.000000  2.839073e+06\n",
       "75%     25.000000   30.000000  240.000000  6.500000e+06\n",
       "max     99.000000   40.000000  307.000000  2.500000e+07"
      ]
     },
     "metadata": {},
     "output_type": "display_data"
    }
   ],
   "source": [
    "#Pandas DataFrame describe() Method\n",
    "import pandas as pd\n",
    "#Reading the CSV File\n",
    "data = pd.read_csv('nba.csv')\n",
    "#Displaying the first few rows of the dataset\n",
    "print('NBA Dataset: ')\n",
    "display(data.head())\n",
    "print(\" \\n Summarry Table Generated by .describe() Method: \")\n",
    "display(data.describe())\n",
    "#Descriptive Statistics for Numerical Columns generated using .describe() Method\n",
    "#count: Total number of non-null values in the column.\n",
    "#mean: Average value of the column.\n",
    "#std: Standard deviation, showing how spread out the values are.\n",
    "#min: Minimum value in the column.\n",
    "#25%: 25th percentile (Q1).\n",
    "#50%: Median value (50th percentile).\n",
    "#75%: 75th percentile (Q3).\n",
    "#max: Maximum value in the column."
   ]
  },
  {
   "cell_type": "code",
   "execution_count": 11,
   "id": "50df378c-2bd8-4c80-9945-e6c9d5bf3454",
   "metadata": {},
   "outputs": [
    {
     "name": "stdout",
     "output_type": "stream",
     "text": [
      "                 Name                  Team      Number Position         Age  \\\n",
      "count             457                   457  457.000000      457  457.000000   \n",
      "unique            457                    30         NaN        5         NaN   \n",
      "top     Avery Bradley  New Orleans Pelicans         NaN       SG         NaN   \n",
      "freq                1                    19         NaN      102         NaN   \n",
      "mean              NaN                   NaN   17.678337      NaN   26.938731   \n",
      "std               NaN                   NaN   15.966090      NaN    4.404016   \n",
      "min               NaN                   NaN    0.000000      NaN   19.000000   \n",
      "20%               NaN                   NaN    4.000000      NaN   23.000000   \n",
      "40%               NaN                   NaN   10.000000      NaN   25.000000   \n",
      "50%               NaN                   NaN   13.000000      NaN   26.000000   \n",
      "60%               NaN                   NaN   18.600000      NaN   27.000000   \n",
      "80%               NaN                   NaN   30.000000      NaN   30.000000   \n",
      "max               NaN                   NaN   99.000000      NaN   40.000000   \n",
      "\n",
      "       Height      Weight   College        Salary  \n",
      "count     457  457.000000       373  4.460000e+02  \n",
      "unique     18         NaN       118           NaN  \n",
      "top       6-9         NaN  Kentucky           NaN  \n",
      "freq       59         NaN        22           NaN  \n",
      "mean      NaN  221.522976       NaN  4.842684e+06  \n",
      "std       NaN   26.368343       NaN  5.229238e+06  \n",
      "min       NaN  161.000000       NaN  3.088800e+04  \n",
      "20%       NaN  195.600000       NaN  9.472760e+05  \n",
      "40%       NaN  213.400000       NaN  1.938840e+06  \n",
      "50%       NaN  220.000000       NaN  2.839073e+06  \n",
      "60%       NaN  230.000000       NaN  3.815000e+06  \n",
      "80%       NaN  245.000000       NaN  8.042895e+06  \n",
      "max       NaN  307.000000       NaN  2.500000e+07  \n"
     ]
    }
   ],
   "source": [
    "#Customizing describe() Method with Percentiles\n",
    "#You can customize the describe() method to include specific percentiles by passing a list to the percentiles parameter. \n",
    "#Here’s an example:\n",
    "percentiles = [.20, .40, .60, .80]\n",
    "include = ['object', 'float', 'int']\n",
    "\n",
    "desc = data.describe(percentiles=percentiles, include=include)\n",
    "\n",
    "print(desc)"
   ]
  },
  {
   "cell_type": "code",
   "execution_count": 12,
   "id": "750e40a2-c4d7-4a6f-ab1c-2ee8fb5b6bd8",
   "metadata": {},
   "outputs": [
    {
     "name": "stdout",
     "output_type": "stream",
     "text": [
      "count               457\n",
      "unique              457\n",
      "top       Avery Bradley\n",
      "freq                  1\n",
      "Name: Name, dtype: object\n"
     ]
    }
   ],
   "source": [
    "#Describing Series of Strings (Object Data Type)\n",
    "#If you want to describe a column with string data (i.e., an object data type), the output will be different. Here’s an example using the “Name” column from the dataset:\n",
    "desc = data[\"Name\"].describe()\n",
    "print(desc)"
   ]
  },
  {
   "cell_type": "code",
   "execution_count": 13,
   "id": "e7df5043-5377-4cdf-94eb-6e8c393bb176",
   "metadata": {},
   "outputs": [
    {
     "name": "stdout",
     "output_type": "stream",
     "text": [
      "     Name Qualification\n",
      "0     Jai           Msc\n",
      "1  Princi            MA\n",
      "2  Gaurav           MCA\n",
      "3    Anuj           Phd\n"
     ]
    }
   ],
   "source": [
    "#Dealing with Rows and Columns in Pandas DataFrame\n",
    "#Dealing with Columns\n",
    "#Column Selection\n",
    "import pandas as pd\n",
    "data = {'Name': ['Jai', 'Princi','Gaurav','Anuj'],\n",
    "       'Age':[27,24,22,32],\n",
    "       'Address':['Delhi','Kanpur','Allahabad','Kannauj'],\n",
    "       'Qualification':['Msc','MA','MCA','Phd']}\n",
    "#convert the dictionary into a DataFrame\n",
    "df = pd.DataFrame(data)\n",
    "#select two columns\n",
    "print(df[['Name', 'Qualification']])"
   ]
  },
  {
   "cell_type": "code",
   "execution_count": 15,
   "id": "4254712f-8566-421a-bce6-972d8dcc2a90",
   "metadata": {},
   "outputs": [
    {
     "name": "stdout",
     "output_type": "stream",
     "text": [
      "     Name  Height Qualification     Adress\n",
      "0     Jai     5.1           Msc      Delhi\n",
      "1  Princi     6.2            MA     Kanpur\n",
      "2  Gaurav     5.1           Msc  Allahabad\n",
      "3    Anuj     5.2           Msc    Kannauj\n"
     ]
    }
   ],
   "source": [
    "#In Order to add a column in Pandas DataFrame, we can declare a new list as a column and add to a existing Dataframe.\n",
    "import pandas as pd\n",
    "# define a dictionary containing students data\n",
    "data = {'Name': ['Jai','Princi','Gaurav','Anuj'],\n",
    "       'Height': [5.1,6.2,5.1,5.2],\n",
    "       'Qualification': ['Msc','MA','Msc','Msc']}\n",
    "#convert the dictionary into a DataFrame\n",
    "df = pd.DataFrame(data)\n",
    "#Declare a list that is to be converted into a column\n",
    "address = ['Delhi','Kanpur','Allahabad','Kannauj']\n",
    "#using Address as the column name and equating it to the list\n",
    "df['Adress'] = address\n",
    "#observe the result\n",
    "print(df)"
   ]
  },
  {
   "cell_type": "code",
   "execution_count": 19,
   "id": "2b946f8f-2ee2-46a0-8c31-0551a2202309",
   "metadata": {},
   "outputs": [
    {
     "name": "stdout",
     "output_type": "stream",
     "text": [
      "               Number Position   Age Height            College     Salary\n",
      "Name                                                                     \n",
      "Avery Bradley     0.0       PG  25.0    6-2              Texas  7730337.0\n",
      "Jae Crowder      99.0       SF  25.0    6-6          Marquette  6796117.0\n",
      "John Holland     30.0       SG  27.0    6-5  Boston University        NaN\n",
      "R.J. Hunter      28.0       SG  22.0    6-5      Georgia State  1148640.0\n",
      "Jonas Jerebko     8.0       PF  29.0   6-10                NaN  5000000.0\n",
      "...               ...      ...   ...    ...                ...        ...\n",
      "Shelvin Mack      8.0       PG  26.0    6-3             Butler  2433333.0\n",
      "Raul Neto        25.0       PG  24.0    6-1                NaN   900000.0\n",
      "Tibor Pleiss     21.0        C  26.0    7-3                NaN  2900000.0\n",
      "Jeff Withey      24.0        C  26.0    7-0             Kansas   947276.0\n",
      "NaN               NaN      NaN   NaN    NaN                NaN        NaN\n",
      "\n",
      "[458 rows x 6 columns]\n"
     ]
    }
   ],
   "source": [
    "#In Order to delete a column in Pandas DataFrame, we can use the drop() method.\n",
    "import pandas as pd\n",
    "#making a DataFrame from the csv file\n",
    "data = pd.read_csv('nba.csv', index_col=\"Name\")\n",
    "#dropping passed columns\n",
    "data.drop([\"Team\", \"Weight\"], axis = 1, inplace = True)\n",
    "#display\n",
    "print(data)"
   ]
  },
  {
   "cell_type": "code",
   "execution_count": null,
   "id": "113d90a3-08ae-4c19-b6d6-5ece1605efe7",
   "metadata": {},
   "outputs": [],
   "source": []
  }
 ],
 "metadata": {
  "kernelspec": {
   "display_name": "Python 3 (ipykernel)",
   "language": "python",
   "name": "python3"
  },
  "language_info": {
   "codemirror_mode": {
    "name": "ipython",
    "version": 3
   },
   "file_extension": ".py",
   "mimetype": "text/x-python",
   "name": "python",
   "nbconvert_exporter": "python",
   "pygments_lexer": "ipython3",
   "version": "3.11.7"
  }
 },
 "nbformat": 4,
 "nbformat_minor": 5
}
